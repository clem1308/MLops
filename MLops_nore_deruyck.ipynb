{
 "cells": [
  {
   "cell_type": "markdown",
   "metadata": {},
   "source": [
    "# Etude de la prédiction des arrêts du coeur"
   ]
  },
  {
   "cell_type": "code",
   "execution_count": 10,
   "metadata": {},
   "outputs": [],
   "source": [
    "import numpy as np\n",
    "import pandas as pd\n",
    "import matplotlib.pyplot as plt\n",
    "import seaborn as sns\n",
    "from scipy.stats import chi2_contingency\n",
    "from sklearn.model_selection import train_test_split\n",
    "from sklearn.linear_model import LogisticRegression\n",
    "from sklearn.metrics import accuracy_score, classification_report, confusion_matrix, roc_curve, roc_auc_score"
   ]
  },
  {
   "cell_type": "markdown",
   "metadata": {},
   "source": [
    "## Fonction de chargement des données et de prévisualisation"
   ]
  },
  {
   "cell_type": "code",
   "execution_count": 5,
   "metadata": {},
   "outputs": [
    {
     "name": "stdout",
     "output_type": "stream",
     "text": [
      "   Age Sex ChestPainType  RestingBP  Cholesterol  FastingBS RestingECG  MaxHR  \\\n",
      "0   40   M           ATA        140          289          0     Normal    172   \n",
      "1   49   F           NAP        160          180          0     Normal    156   \n",
      "2   37   M           ATA        130          283          0         ST     98   \n",
      "3   48   F           ASY        138          214          0     Normal    108   \n",
      "4   54   M           NAP        150          195          0     Normal    122   \n",
      "5   39   M           NAP        120          339          0     Normal    170   \n",
      "6   45   F           ATA        130          237          0     Normal    170   \n",
      "7   54   M           ATA        110          208          0     Normal    142   \n",
      "8   37   M           ASY        140          207          0     Normal    130   \n",
      "9   48   F           ATA        120          284          0     Normal    120   \n",
      "\n",
      "  ExerciseAngina  Oldpeak ST_Slope  HeartDisease  \n",
      "0              N      0.0       Up             0  \n",
      "1              N      1.0     Flat             1  \n",
      "2              N      0.0       Up             0  \n",
      "3              Y      1.5     Flat             1  \n",
      "4              N      0.0       Up             0  \n",
      "5              N      0.0       Up             0  \n",
      "6              N      0.0       Up             0  \n",
      "7              N      0.0       Up             0  \n",
      "8              Y      1.5     Flat             1  \n",
      "9              N      0.0       Up             0  \n"
     ]
    }
   ],
   "source": [
    "\"\"\"\n",
    "Charge un fichier CSV et affiche les premières lignes du DataFrame.\n",
    "\n",
    "Paramètres :\n",
    "- chemin : Chemin vers le fichier CSV.\n",
    "- n : Nombre de premières lignes à afficher (par défaut, 10).\n",
    "\n",
    "Return :\n",
    "- DataFrame contenant les données selon la valeur de n.\n",
    "\"\"\"\n",
    "def charger_visualiser(chemin, n=10):\n",
    "    data = pd.read_csv(chemin)\n",
    "    return data.head(n)\n",
    "\n",
    "# Utilisation de la fonction\n",
    "chemin = 'heart.csv'\n",
    "visu = charger_visualiser(chemin)\n",
    "print(visu)"
   ]
  },
  {
   "cell_type": "markdown",
   "metadata": {},
   "source": [
    "## Fonction des test d'indépendance \n",
    "Cette fonction permet de réaliser le test du chi-2 et du V de Cramer"
   ]
  },
  {
   "cell_type": "code",
   "execution_count": 9,
   "metadata": {},
   "outputs": [
    {
     "name": "stdout",
     "output_type": "stream",
     "text": [
      "Test du khi-2 : chi2 = 268.06723902181767, p-value = 8.08372842808765e-58\n",
      "V de Cramer : 0.5403815716169053\n"
     ]
    }
   ],
   "source": [
    "\"\"\"\n",
    "Effectue le test du khi-2 et calcule la valeur V de Cramer pour une table de contingence donnée.\n",
    "\n",
    "Paramètres :\n",
    "- data : DataFrame contenant les données.\n",
    "- colonne_cible : Nom de la colonne cible (par exemple, 'HeartDisease').\n",
    "- colonne_caract : Nom de la colonne de caractéristique pour la table de contingence (par exemple, 'ChestPainType').\n",
    "\n",
    "Returns :\n",
    "- chi2 : Statistique chi2 du test du khi-2.\n",
    "- p : Valeur p du test du khi-2.\n",
    "- v_cramer : Valeur V de Cramer calculée.\n",
    "\"\"\"\n",
    "\n",
    "def test_chi2_cramer(data, colonne_cible, colonne_caract):\n",
    "\n",
    "    # Créer un tableau de contingence\n",
    "    contingency_table = pd.crosstab(data[colonne_cible], data[colonne_caract])\n",
    "\n",
    "    # Effectuer le test du khi-2\n",
    "    chi2, p, _, _ = chi2_contingency(contingency_table)\n",
    "    print(f\"Test du khi-2 : chi2 = {chi2}, p-value = {p}\")\n",
    "\n",
    "    # Calculer la valeur V de Cramer\n",
    "    n = contingency_table.sum().sum()\n",
    "    min_dim = min(contingency_table.shape)\n",
    "    v_cramer = (chi2 / n) ** 0.5 / (min_dim - 1)\n",
    "\n",
    "    print(f\"V de Cramer : {v_cramer}\")\n",
    "\n",
    "    return chi2, p, v_cramer\n",
    "\n",
    "# Charger le fichier CSV\n",
    "chemin = 'heart.csv'\n",
    "data = pd.read_csv(chemin)\n",
    "\n",
    "# Utilisation de la fonction\n",
    "chi2, p, v_cramer = test_chi2_cramer(data, 'HeartDisease', 'ChestPainType')"
   ]
  },
  {
   "cell_type": "code",
   "execution_count": 13,
   "metadata": {},
   "outputs": [],
   "source": [
    "def prepare_data(data, colonne_cible):\n",
    "    \"\"\"Préparation des données.\"\"\"\n",
    "    X = data.drop(colonne_cible, axis=1)\n",
    "    y = data[colonne_cible]\n",
    "    X = pd.get_dummies(X)\n",
    "    return X, y\n",
    "\n",
    "def divise_data(X, y, test_size=0.2, random_state=42):\n",
    "    \"\"\"Diviser le dataset en ensemble d'entraînement et ensemble de test.\"\"\"\n",
    "    return train_test_split(X, y, test_size=test_size, random_state=random_state)\n",
    "\n",
    "def logistic_regression(X_train, y_train):\n",
    "    \"\"\"Créer et entraîner le modèle de régression logistique.\"\"\"\n",
    "    model = LogisticRegression()\n",
    "    model.fit(X_train, y_train)\n",
    "    return model\n",
    "\n",
    "def evaluate_model(model, X_test, y_test):\n",
    "    \"\"\"Évaluation du modèle.\"\"\"\n",
    "    y_pred = model.predict(X_test)\n",
    "    print(\"\\nÉvaluation du modèle:\")\n",
    "    print(\"Accuracy:\", accuracy_score(y_test, y_pred))\n",
    "    print(\"Classification Report:\\n\", classification_report(y_test, y_pred))\n",
    "    print(\"Confusion Matrix:\\n\", confusion_matrix(y_test, y_pred))\n",
    "    return y_pred\n",
    "\n",
    "def plot_roc(y_test, y_prob):\n",
    "    \"\"\"Afficher la courbe ROC.\"\"\"\n",
    "    fpr, tpr, _ = roc_curve(y_test, y_prob)\n",
    "    roc_auc = roc_auc_score(y_test, y_prob)\n",
    "    plt.figure(figsize=(8, 8))\n",
    "    plt.plot(fpr, tpr, label=f'AUC = {roc_auc:.2f}')\n",
    "    plt.plot([0, 1], [0, 1], linestyle='--', color='gray', label='Random')\n",
    "    plt.title('Courbe ROC')\n",
    "    plt.xlabel('Taux de faux positifs (FPR)')\n",
    "    plt.ylabel('Taux de vrais positifs (TPR)')\n",
    "    plt.legend()\n",
    "    plt.show()"
   ]
  },
  {
   "cell_type": "code",
   "execution_count": null,
   "metadata": {},
   "outputs": [],
   "source": []
  }
 ],
 "metadata": {
  "kernelspec": {
   "display_name": "Python 3",
   "language": "python",
   "name": "python3"
  },
  "language_info": {
   "codemirror_mode": {
    "name": "ipython",
    "version": 3
   },
   "file_extension": ".py",
   "mimetype": "text/x-python",
   "name": "python",
   "nbconvert_exporter": "python",
   "pygments_lexer": "ipython3",
   "version": "3.7.3"
  }
 },
 "nbformat": 4,
 "nbformat_minor": 2
}
